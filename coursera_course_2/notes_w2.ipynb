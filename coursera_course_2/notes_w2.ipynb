{
 "cells": [
  {
   "cell_type": "code",
   "execution_count": 1,
   "id": "initial_id",
   "metadata": {
    "collapsed": true,
    "ExecuteTime": {
     "end_time": "2023-09-25T14:03:06.441162232Z",
     "start_time": "2023-09-25T14:03:06.440278645Z"
    }
   },
   "outputs": [],
   "source": [
    "# Part of Speech tagging (POS)\n",
    "\n",
    "# Basically tags each word with additional metadata: is it a verb, is it a noun, adverb, adjective, punctuation, etc.\n",
    "\n"
   ]
  },
  {
   "cell_type": "code",
   "execution_count": null,
   "outputs": [],
   "source": [
    "# Markov models - markov chain, stochastic events\n",
    "# Give probabilities for transition to each state (incl. itself)\n",
    "\n",
    "# Represents transitions from POS -> POS1\n",
    "\n",
    "# e.g. P(Verb -> Verb) = 0.2, P(Verb -> Noun) = 0.6\n",
    "# This can be represented as a transition matrix\n",
    "\n",
    "# Also has emission matrix\n",
    "# POS -> WordFroMCorpus\n",
    "\n",
    "# These Transition matrices are just counts / total_counts\n",
    "# E.g. if we have Verb->Verb = 1, Verb->Noun=2, Verb->Adj=0, then we have 1/3, 2/3, 0/3 probabilities (+ epsilon to smooth === avoid zero denominator)\n",
    "\n",
    "# Same for emission matrices"
   ],
   "metadata": {
    "collapsed": false
   },
   "id": "9bc4b485acaf5883"
  },
  {
   "cell_type": "code",
   "execution_count": null,
   "outputs": [],
   "source": [
    "# OFFTOPIC, managing pandas\n",
    "\n",
    "import pandas as pd\n",
    "\n",
    "data = {\n",
    "   \"value\": range(12),\n",
    "    \"variable\": [\"A\"] * 3 + [\"B\"] * 3 + [\"C\"] * 3 + [\"D\"] * 3,\n",
    "    \"date\": pd.to_datetime([\"2020-01-03\", \"2020-01-04\", \"2020-01-05\"] * 4)\n",
    " }\n",
    "df = pd.DataFrame(data)\n",
    "df"
   ],
   "metadata": {
    "collapsed": false
   },
   "id": "9bfe45bb2e89ede6"
  },
  {
   "cell_type": "code",
   "execution_count": 5,
   "outputs": [
    {
     "data": {
      "text/plain": "variable    A  B  C   D\ndate                   \n2020-01-03  0  3  6   9\n2020-01-04  1  4  7  10\n2020-01-05  2  5  8  11",
      "text/html": "<div>\n<style scoped>\n    .dataframe tbody tr th:only-of-type {\n        vertical-align: middle;\n    }\n\n    .dataframe tbody tr th {\n        vertical-align: top;\n    }\n\n    .dataframe thead th {\n        text-align: right;\n    }\n</style>\n<table border=\"1\" class=\"dataframe\">\n  <thead>\n    <tr style=\"text-align: right;\">\n      <th>variable</th>\n      <th>A</th>\n      <th>B</th>\n      <th>C</th>\n      <th>D</th>\n    </tr>\n    <tr>\n      <th>date</th>\n      <th></th>\n      <th></th>\n      <th></th>\n      <th></th>\n    </tr>\n  </thead>\n  <tbody>\n    <tr>\n      <th>2020-01-03</th>\n      <td>0</td>\n      <td>3</td>\n      <td>6</td>\n      <td>9</td>\n    </tr>\n    <tr>\n      <th>2020-01-04</th>\n      <td>1</td>\n      <td>4</td>\n      <td>7</td>\n      <td>10</td>\n    </tr>\n    <tr>\n      <th>2020-01-05</th>\n      <td>2</td>\n      <td>5</td>\n      <td>8</td>\n      <td>11</td>\n    </tr>\n  </tbody>\n</table>\n</div>"
     },
     "execution_count": 5,
     "metadata": {},
     "output_type": "execute_result"
    }
   ],
   "source": [
    "pivoted = df.pivot(index=\"date\", columns=\"variable\", values=\"value\")\n",
    "pivoted"
   ],
   "metadata": {
    "collapsed": false,
    "ExecuteTime": {
     "end_time": "2023-09-25T14:11:56.377869428Z",
     "start_time": "2023-09-25T14:11:56.328841637Z"
    }
   },
   "id": "ab0bbe00d81cef36"
  },
  {
   "cell_type": "code",
   "execution_count": 9,
   "outputs": [
    {
     "data": {
      "text/plain": "           variable  value\ndate                      \n2020-01-03        A      0\n2020-01-04        A      1\n2020-01-05        A      2\n2020-01-03        B      3\n2020-01-04        B      4\n2020-01-05        B      5\n2020-01-03        C      6\n2020-01-04        C      7\n2020-01-05        C      8\n2020-01-03        D      9\n2020-01-04        D     10\n2020-01-05        D     11",
      "text/html": "<div>\n<style scoped>\n    .dataframe tbody tr th:only-of-type {\n        vertical-align: middle;\n    }\n\n    .dataframe tbody tr th {\n        vertical-align: top;\n    }\n\n    .dataframe thead th {\n        text-align: right;\n    }\n</style>\n<table border=\"1\" class=\"dataframe\">\n  <thead>\n    <tr style=\"text-align: right;\">\n      <th></th>\n      <th>variable</th>\n      <th>value</th>\n    </tr>\n    <tr>\n      <th>date</th>\n      <th></th>\n      <th></th>\n    </tr>\n  </thead>\n  <tbody>\n    <tr>\n      <th>2020-01-03</th>\n      <td>A</td>\n      <td>0</td>\n    </tr>\n    <tr>\n      <th>2020-01-04</th>\n      <td>A</td>\n      <td>1</td>\n    </tr>\n    <tr>\n      <th>2020-01-05</th>\n      <td>A</td>\n      <td>2</td>\n    </tr>\n    <tr>\n      <th>2020-01-03</th>\n      <td>B</td>\n      <td>3</td>\n    </tr>\n    <tr>\n      <th>2020-01-04</th>\n      <td>B</td>\n      <td>4</td>\n    </tr>\n    <tr>\n      <th>2020-01-05</th>\n      <td>B</td>\n      <td>5</td>\n    </tr>\n    <tr>\n      <th>2020-01-03</th>\n      <td>C</td>\n      <td>6</td>\n    </tr>\n    <tr>\n      <th>2020-01-04</th>\n      <td>C</td>\n      <td>7</td>\n    </tr>\n    <tr>\n      <th>2020-01-05</th>\n      <td>C</td>\n      <td>8</td>\n    </tr>\n    <tr>\n      <th>2020-01-03</th>\n      <td>D</td>\n      <td>9</td>\n    </tr>\n    <tr>\n      <th>2020-01-04</th>\n      <td>D</td>\n      <td>10</td>\n    </tr>\n    <tr>\n      <th>2020-01-05</th>\n      <td>D</td>\n      <td>11</td>\n    </tr>\n  </tbody>\n</table>\n</div>"
     },
     "execution_count": 9,
     "metadata": {},
     "output_type": "execute_result"
    }
   ],
   "source": [
    "pivoted.melt(ignore_index=False)"
   ],
   "metadata": {
    "collapsed": false,
    "ExecuteTime": {
     "end_time": "2023-09-25T14:13:41.813800515Z",
     "start_time": "2023-09-25T14:13:41.785926922Z"
    }
   },
   "id": "661d72080e488a2c"
  },
  {
   "cell_type": "code",
   "execution_count": null,
   "outputs": [],
   "source": [
    "# Viterbi algorithm\n",
    "\n",
    "# It's main idea, calculate the join probability of a sentence occurrence"
   ],
   "metadata": {
    "collapsed": false
   },
   "id": "bcdab63f0072ae5c"
  }
 ],
 "metadata": {
  "kernelspec": {
   "display_name": "Python 3",
   "language": "python",
   "name": "python3"
  },
  "language_info": {
   "codemirror_mode": {
    "name": "ipython",
    "version": 2
   },
   "file_extension": ".py",
   "mimetype": "text/x-python",
   "name": "python",
   "nbconvert_exporter": "python",
   "pygments_lexer": "ipython2",
   "version": "2.7.6"
  }
 },
 "nbformat": 4,
 "nbformat_minor": 5
}
