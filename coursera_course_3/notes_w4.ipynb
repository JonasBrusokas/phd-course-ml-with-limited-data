{
 "cells": [
  {
   "cell_type": "code",
   "execution_count": null,
   "outputs": [],
   "source": [
    "# Siamese networks\n",
    "\n",
    "# Two identical networks merged at the end\n",
    "# Good for identifying similar, duplicate cases\n",
    "\n",
    "# Network example\n",
    "\n",
    "# embed -> LSTM -> v1\n",
    "#                       -> cosine similarity -> y\n",
    "# embed -> LSTM -> v2\n",
    "\n",
    "# embed + LSTM are THE SAME BETWEEN BOTH!\n"
   ],
   "metadata": {
    "collapsed": false
   },
   "id": "240d193555b95a3e"
  },
  {
   "cell_type": "code",
   "execution_count": null,
   "outputs": [],
   "source": [
    "# Loss - triplet loss\n",
    "\n",
    "# loss = diff = net(Anchor, Negative_example) - net(Anchor, Positive_example)"
   ],
   "metadata": {
    "collapsed": false
   },
   "id": "e977acc9a5f58549"
  },
  {
   "cell_type": "code",
   "execution_count": null,
   "outputs": [],
   "source": [
    "# One shot learning\n",
    "\n",
    "# Classification - classifies K classes, softmax at the end\n",
    "# - what if a new signature? - what if we do not have enough samples?\n",
    "\n",
    "\n",
    "# One Shot Learning - measure similarity between two classes, with a single sample\n",
    "# Learns a similarity score, there's a threshold (tau) that says whether this is ok or not!\n",
    "# "
   ],
   "metadata": {
    "collapsed": false
   },
   "id": "68763c32b505176d"
  }
 ],
 "metadata": {
  "kernelspec": {
   "display_name": "Python 3",
   "language": "python",
   "name": "python3"
  },
  "language_info": {
   "codemirror_mode": {
    "name": "ipython",
    "version": 2
   },
   "file_extension": ".py",
   "mimetype": "text/x-python",
   "name": "python",
   "nbconvert_exporter": "python",
   "pygments_lexer": "ipython2",
   "version": "2.7.6"
  }
 },
 "nbformat": 4,
 "nbformat_minor": 5
}
