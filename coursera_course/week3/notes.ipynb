{
 "cells": [
  {
   "cell_type": "code",
   "execution_count": 1,
   "id": "initial_id",
   "metadata": {
    "collapsed": true,
    "ExecuteTime": {
     "end_time": "2023-09-25T11:18:23.060324953Z",
     "start_time": "2023-09-25T11:18:23.059100396Z"
    }
   },
   "outputs": [
    {
     "data": {
      "text/plain": "'\\nNumber of times word occurs within a certain category (e.g. Economy, Entertainment)\\n'"
     },
     "execution_count": 1,
     "metadata": {},
     "output_type": "execute_result"
    }
   ],
   "source": [
    "# Word by word (matrix)\n",
    "\n",
    "\"\"\" \n",
    "Number of times word occur together within distance 'k'\n",
    "\"\"\"\n",
    "\n",
    "# Word by document\n",
    "\n",
    "\"\"\"\n",
    "Number of times word occurs within a certain category (e.g. Economy, Entertainment)\n",
    "\"\"\"\n",
    "\n",
    "# We can make vectors to represent similarity between words\\"
   ]
  },
  {
   "cell_type": "code",
   "execution_count": 3,
   "outputs": [
    {
     "name": "stdout",
     "output_type": "stream",
     "text": [
      "Distance: 3.0\n"
     ]
    }
   ],
   "source": [
    "# Euclidean distance\n",
    "# - Literal straight line between two vectors in n-dimensional space\n",
    "# NOTE: is a bit dependent on scale\n",
    "\n",
    "# Norm of the difference of vectors\n",
    "\n",
    "import numpy as np\n",
    "vector_1 = np.array([1, 6, 8])\n",
    "vector_2 = np.array([0, 4, 6])\n",
    "\n",
    "d_euclidean = np.linalg.norm(vector_1-vector_2)\n",
    "print(f\"Distance: {d_euclidean}\")\n"
   ],
   "metadata": {
    "collapsed": false,
    "ExecuteTime": {
     "end_time": "2023-09-25T11:21:26.575509558Z",
     "start_time": "2023-09-25T11:21:26.532071036Z"
    }
   },
   "id": "985c58c5f1d4c53f"
  },
  {
   "cell_type": "code",
   "execution_count": 4,
   "outputs": [],
   "source": [
    "# Cosine similarity = angle\n",
    "\n",
    "# Vector norm ||v|| = sqrt(sum(vi^2))\n",
    "\n",
    "# Cos_sim(v,w) = norm(v) norm(w) cos(beta) === dot(v,w) / norm(v) norm(w)\n",
    "\n",
    "\n",
    "# ONCE WE HAVE VECTOR SPACES, WE CAN USE THE DISTANCE TO MAKE PREDICTIONS"
   ],
   "metadata": {
    "collapsed": false,
    "ExecuteTime": {
     "end_time": "2023-09-25T12:02:31.485215939Z",
     "start_time": "2023-09-25T12:02:31.480109505Z"
    }
   },
   "id": "c7ff55cd10de2f71"
  },
  {
   "cell_type": "markdown",
   "source": [
    "# Eigen vectors and eigen values\n",
    "\n",
    "- A * v = lambda * v\n",
    "- lambda = eigenvalue\n",
    "- A = matrix\n",
    "- v = eigenvector\n",
    "\n",
    "\n",
    "- Thinking about vectors that stay on their own line, after rotations get applied from matrix A\n",
    "- lambda is a diagonal matrix === lambda * IdentityMatrix\n",
    "\n",
    "- Determinants are just the area of the vector \n"
   ],
   "metadata": {
    "collapsed": false
   },
   "id": "dc8f20c685dabdd3"
  },
  {
   "cell_type": "code",
   "execution_count": 9,
   "outputs": [
    {
     "name": "stdout",
     "output_type": "stream",
     "text": [
      "Determinant of v1v2 = 6.0\n"
     ]
    }
   ],
   "source": [
    "    # Quickly remembering determinants\n",
    "\n",
    "# np.linalg.det(vector)\n",
    "\n",
    "\"\"\" v1\n",
    "---> (3,0)\n",
    "^\n",
    "|\n",
    "| (0, 2) v2\n",
    "\n",
    "Determinant = 6?\n",
    "\"\"\"\n",
    "\n",
    "v1v2 = np.array([[3, 0], [0, 2]])\n",
    "det_v1v2 = np.linalg.det(v1v2)\n",
    "print(f\"Determinant of v1v2 = {det_v1v2}\")\n",
    "\n",
    "# Eigenvectors and eigenvalues are found by finding the values that \"squish\" => det(A - lambda * identity) = 0"
   ],
   "metadata": {
    "collapsed": false,
    "ExecuteTime": {
     "end_time": "2023-09-25T12:10:36.389005061Z",
     "start_time": "2023-09-25T12:10:36.377682080Z"
    }
   },
   "id": "d6fe7df8bed22347"
  },
  {
   "cell_type": "code",
   "execution_count": 47,
   "outputs": [
    {
     "name": "stdout",
     "output_type": "stream",
     "text": [
      "Found a solution! Eigenvalue (lambda) for ev1ev2 is: 1.0, vector: [[1. 1.]\n",
      " [2. 2.]]\n",
      "Found a solution! Eigenvalue (lambda) for ev1ev2 is: 4.0, vector: [[-2.  1.]\n",
      " [ 2. -1.]]\n"
     ]
    }
   ],
   "source": [
    "# Example from 3Blue1Brown\n",
    "# Link: https://youtu.be/PFDu9oVAE-g?si=A-jaxzkRWiKjulB0&t=460\n",
    "\n",
    "ev1 = [2, 1]\n",
    "ev2 = [2, 3]\n",
    "\n",
    "ev1ev2 = np.array([ev1, ev2])\n",
    "\n",
    "# Lets find the eigen vectors :)\n",
    "# We need to find the lambda, s.t. det(ev1ev2 - lambda * I) = 0\n",
    "\n",
    "def find_eigen_value(ev1ev2: np.array): \n",
    "    for lambda_hat in np.linspace(-5, 5, 101):\n",
    "        rotated_ev1ev2 = ev1ev2 - lambda_hat * np.identity(ev1ev2.shape[0])\n",
    "        det_rotated_ev1ev2 = np.linalg.det(rotated_ev1ev2)\n",
    "        if (det_rotated_ev1ev2 == 0):\n",
    "            print(f\"Found a solution! Eigenvalue (lambda) for ev1ev2 is: {lambda_hat}, vector: {str(rotated_ev1ev2).strip('')}\")\n",
    "            \n",
    "find_eigen_value(ev1ev2)\n",
    "\n"
   ],
   "metadata": {
    "collapsed": false,
    "ExecuteTime": {
     "end_time": "2023-09-25T12:27:31.297233962Z",
     "start_time": "2023-09-25T12:27:31.283360810Z"
    }
   },
   "id": "815d212112a4dc4d"
  },
  {
   "cell_type": "code",
   "execution_count": 48,
   "outputs": [
    {
     "name": "stdout",
     "output_type": "stream",
     "text": [
      "Found a solution! Eigenvalue (lambda) for ev1ev2 is: 2.0, vector: [[1. 0.]\n",
      " [1. 0.]]\n",
      "Found a solution! Eigenvalue (lambda) for ev1ev2 is: 3.0, vector: [[ 0.  0.]\n",
      " [ 1. -1.]]\n"
     ]
    }
   ],
   "source": [
    "find_eigen_value(np.array([[3,0], [1,2]]))\n"
   ],
   "metadata": {
    "collapsed": false,
    "ExecuteTime": {
     "end_time": "2023-09-25T12:27:47.315870934Z",
     "start_time": "2023-09-25T12:27:47.304986470Z"
    }
   },
   "id": "2e2cb023687da12c"
  },
  {
   "cell_type": "code",
   "execution_count": 50,
   "outputs": [],
   "source": [
    "# NO EIGENVECTORS, e.g. rotation of 90 degrees\n",
    "\n",
    "find_eigen_value(np.array([[0,1], [-1,0]]))"
   ],
   "metadata": {
    "collapsed": false,
    "ExecuteTime": {
     "end_time": "2023-09-25T12:28:36.643658108Z",
     "start_time": "2023-09-25T12:28:36.618573065Z"
    }
   },
   "id": "e54d8ce923ce9e00"
  },
  {
   "cell_type": "code",
   "execution_count": 52,
   "outputs": [
    {
     "name": "stdout",
     "output_type": "stream",
     "text": [
      "Found a solution! Eigenvalue (lambda) for ev1ev2 is: 1.0, vector: [[0. 0.]\n",
      " [1. 0.]]\n"
     ]
    }
   ],
   "source": [
    "find_eigen_value(np.array([[1,0], [1,1]])) #\"Shears\" === žirklės\n"
   ],
   "metadata": {
    "collapsed": false,
    "ExecuteTime": {
     "end_time": "2023-09-25T12:29:02.855238167Z",
     "start_time": "2023-09-25T12:29:02.796481189Z"
    }
   },
   "id": "8d0bb2cd2dac5845"
  },
  {
   "cell_type": "code",
   "execution_count": null,
   "outputs": [],
   "source": [
    "# Diagonal matrix \n",
    "\n",
    "\n",
    "\n"
   ],
   "metadata": {
    "collapsed": false
   },
   "id": "bdf9a033d07947cf"
  },
  {
   "cell_type": "code",
   "execution_count": null,
   "outputs": [],
   "source": [
    "# In the assignment\n",
    "# Eigenvectors will give the direction of uncorrelated features (e.g. new information)\n",
    "# Eigenvaleus are the variance of the new features\n",
    "\n",
    "# Dot product will give us the projection of uncorrelated features of an existing feature space"
   ],
   "metadata": {
    "collapsed": false
   },
   "id": "7a20807800f7f38c"
  }
 ],
 "metadata": {
  "kernelspec": {
   "display_name": "Python 3",
   "language": "python",
   "name": "python3"
  },
  "language_info": {
   "codemirror_mode": {
    "name": "ipython",
    "version": 2
   },
   "file_extension": ".py",
   "mimetype": "text/x-python",
   "name": "python",
   "nbconvert_exporter": "python",
   "pygments_lexer": "ipython2",
   "version": "2.7.6"
  }
 },
 "nbformat": 4,
 "nbformat_minor": 5
}
