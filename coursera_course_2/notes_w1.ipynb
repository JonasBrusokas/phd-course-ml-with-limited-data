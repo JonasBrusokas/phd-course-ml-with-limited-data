{
 "cells": [
  {
   "cell_type": "code",
   "execution_count": null,
   "id": "initial_id",
   "metadata": {
    "collapsed": true
   },
   "outputs": [],
   "source": [
    "# Minimum edit distance - dynamic programming\n",
    "\n",
    "# Autocorrect usually has 2-3 edits\n",
    "    # Possible edits: add a letter, delete a letter, switch a letter, replace a letter\n",
    "    \n",
    "# Each operation can have a diff cost, e.g. insert = 1, delete = 1, replace = 2 (replace is insert+delete)\n",
    "\n",
    "\n"
   ]
  }
 ],
 "metadata": {
  "kernelspec": {
   "display_name": "Python 3",
   "language": "python",
   "name": "python3"
  },
  "language_info": {
   "codemirror_mode": {
    "name": "ipython",
    "version": 2
   },
   "file_extension": ".py",
   "mimetype": "text/x-python",
   "name": "python",
   "nbconvert_exporter": "python",
   "pygments_lexer": "ipython2",
   "version": "2.7.6"
  }
 },
 "nbformat": 4,
 "nbformat_minor": 5
}
