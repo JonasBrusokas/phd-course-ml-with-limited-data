{
 "cells": [
  {
   "cell_type": "code",
   "execution_count": null,
   "outputs": [],
   "source": [
    "# Word embeddings \n",
    "# Goal is to assign a number or vector every single word\n"
   ],
   "metadata": {
    "collapsed": false
   },
   "id": "2daf181df36bf4d7"
  },
  {
   "cell_type": "code",
   "execution_count": 1,
   "outputs": [],
   "source": [
    "# One-hot vectors\n",
    "# Categorical variables, assign 1 to particular column, 0 everwhere else\n",
    "\n",
    "# Ordinal (e.g. simple number) and one-hot vectors DO NOT give much semantic meaning w.r.t. relationships to other words\n"
   ],
   "metadata": {
    "collapsed": false,
    "ExecuteTime": {
     "end_time": "2023-09-25T14:53:20.676978389Z",
     "start_time": "2023-09-25T14:53:20.676293259Z"
    }
   },
   "id": "fa6b0fe648887725"
  },
  {
   "cell_type": "code",
   "execution_count": null,
   "outputs": [],
   "source": [
    "# Word embeddings - extract features (representing semantics, such as sentiments) for each word\n",
    "# Word vectors are often short handed\n",
    "\n",
    "# Self-supervised = unsupervised + supervised\n"
   ],
   "metadata": {
    "collapsed": false
   },
   "id": "f27545aab1bfa86d"
  },
  {
   "cell_type": "code",
   "execution_count": null,
   "outputs": [],
   "source": [
    "# Word embeddings \n",
    "\n",
    "\"\"\"\n",
    "- word2vec = shallow NN\n",
    "    - CBOW\n",
    "    - Continous skip gram\n",
    "- GloVe \n",
    "- fastText\n",
    "  - supports OOV words, infers their embeddings from surrounding characters\n",
    "\"\"\"\n",
    "\n",
    "\"\"\"\n",
    "polysemi - one word = multiple meaning (e.g. plants)\n",
    "\n",
    "DNN advanced\n",
    "- BERT\n",
    "- ELMo\n",
    "- GPT-2\n",
    "\"\"\"\n"
   ],
   "metadata": {
    "collapsed": false
   },
   "id": "605f6c5d68db09bb"
  },
  {
   "cell_type": "code",
   "execution_count": null,
   "outputs": [],
   "source": [
    "# Continuous bag of words (CBOW)\n",
    "# Objective: find the missing word\n",
    "\n",
    "\"I think ??? I am => CBOW => therefore\"\n",
    "\n",
    "# word-2 word-1 center-word word+1 word+2\n",
    "# Context=2\n",
    "# Window=5 (all words including center)\n",
    "\n",
    "# Center words are the TARGET. Input of the model: (word-2, -1, +1, +2), output: (center-word)\n"
   ],
   "metadata": {
    "collapsed": false
   },
   "id": "95993a580ff065dd"
  },
  {
   "cell_type": "code",
   "execution_count": null,
   "outputs": [],
   "source": [
    "# NLTLK - has a lot of tools for working with NLP, preprocessors\n"
   ],
   "metadata": {
    "collapsed": false
   },
   "id": "db60a76aefcae9ef"
  },
  {
   "cell_type": "code",
   "execution_count": null,
   "outputs": [],
   "source": [
    "# OFFTOPIC, yield in python\n",
    "\n",
    "def get_iterator(start: int, end:int):\n",
    "    for i in range(start, end+1):\n",
    "        yield i\n",
    "        \n",
    "list(get_iterator(1, 5))\n",
    "\n"
   ],
   "metadata": {
    "collapsed": false
   },
   "id": "b62f25a75792e7d1"
  },
  {
   "cell_type": "code",
   "execution_count": null,
   "outputs": [],
   "source": [
    "# Training\n",
    "\n",
    "# We use cross-entropy loss!\n"
   ],
   "metadata": {
    "collapsed": false
   },
   "id": "6e845370e6ebaa41"
  },
  {
   "cell_type": "code",
   "execution_count": 15,
   "outputs": [
    {
     "name": "stdout",
     "output_type": "stream",
     "text": [
      "2.995732273553991\n"
     ]
    }
   ],
   "source": [
    "# offtopic calc\n",
    "\n",
    "import numpy as np\n",
    "\n",
    "outputs = np.array([0.083, 0.03, 0.611, 0.25, 0.05])\n",
    "correct_output_idx = 4\n",
    "\n",
    "\"CE(y, yhat) = -1 * sum(y_i * log yhat_i)\"\n",
    "\n",
    "ce_loss = 0\n",
    "for idx, output in enumerate(outputs):\n",
    "    ce_loss += (1 if idx == correct_output_idx else 0) * np.log(output)\n",
    "ce_loss = -1 * ce_loss\n",
    "\n",
    "print(ce_loss)"
   ],
   "metadata": {
    "collapsed": false,
    "ExecuteTime": {
     "end_time": "2023-09-25T15:13:16.015520295Z",
     "start_time": "2023-09-25T15:13:15.927820597Z"
    }
   },
   "id": "80805582300325c7"
  },
  {
   "cell_type": "code",
   "execution_count": null,
   "outputs": [],
   "source": [
    "# Intrinsic or extrinsic evaluation\n",
    "\n"
   ],
   "metadata": {
    "collapsed": false
   },
   "id": "c1d6229081baf619"
  }
 ],
 "metadata": {
  "kernelspec": {
   "display_name": "Python 3",
   "language": "python",
   "name": "python3"
  },
  "language_info": {
   "codemirror_mode": {
    "name": "ipython",
    "version": 2
   },
   "file_extension": ".py",
   "mimetype": "text/x-python",
   "name": "python",
   "nbconvert_exporter": "python",
   "pygments_lexer": "ipython2",
   "version": "2.7.6"
  }
 },
 "nbformat": 4,
 "nbformat_minor": 5
}
