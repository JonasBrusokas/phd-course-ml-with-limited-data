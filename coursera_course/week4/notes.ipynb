{
 "cells": [
  {
   "cell_type": "code",
   "execution_count": 3,
   "id": "initial_id",
   "metadata": {
    "collapsed": true,
    "ExecuteTime": {
     "end_time": "2023-09-25T13:21:01.073024521Z",
     "start_time": "2023-09-25T13:21:01.056551357Z"
    }
   },
   "outputs": [
    {
     "name": "stdout",
     "output_type": "stream",
     "text": [
      "4.0\n",
      "4.0\n"
     ]
    }
   ],
   "source": [
    "import numpy as np\n",
    "\n",
    "\n",
    "# Frobenius norm\n",
    "\n",
    "def my_fro_norm(A: np.array): \n",
    "    return np.sqrt(np.sum(np.square(A)))\n",
    "\n",
    "\n",
    "A1 = np.array([[2, 2], [2, 2]])\n",
    "print(np.linalg.norm(A1, ord='fro'))\n",
    "print(my_fro_norm(A1))"
   ]
  },
  {
   "cell_type": "code",
   "execution_count": 5,
   "outputs": [
    {
     "name": "stdout",
     "output_type": "stream",
     "text": [
      "7.3484692283495345\n",
      "7.3484692283495345\n"
     ]
    }
   ],
   "source": [
    "A2 = np.array([[2,3], [4,5]])\n",
    "\n",
    "print(np.linalg.norm(A2, ord='fro'))\n",
    "print(my_fro_norm(A2))"
   ],
   "metadata": {
    "collapsed": false,
    "ExecuteTime": {
     "end_time": "2023-09-25T13:26:21.232516462Z",
     "start_time": "2023-09-25T13:26:21.184636335Z"
    }
   },
   "id": "ef0805ea8170fe03"
  },
  {
   "cell_type": "code",
   "execution_count": 7,
   "outputs": [
    {
     "data": {
      "text/plain": "{0: [], 1: [], 2: [], 3: [], 4: []}"
     },
     "execution_count": 7,
     "metadata": {},
     "output_type": "execute_result"
    }
   ],
   "source": [
    "# Dictionary comprehension\n",
    "\n",
    "n_buckets = 5\n",
    "hash_table = {i: [] for i in range(n_buckets)}\n",
    "\n",
    "hash_table"
   ],
   "metadata": {
    "collapsed": false,
    "ExecuteTime": {
     "end_time": "2023-09-25T13:30:47.172325128Z",
     "start_time": "2023-09-25T13:30:47.130649090Z"
    }
   },
   "id": "4cc335eba8f5a325"
  },
  {
   "cell_type": "code",
   "execution_count": 14,
   "outputs": [
    {
     "name": "stdout",
     "output_type": "stream",
     "text": [
      "1\n",
      "1\n",
      "0\n"
     ]
    }
   ],
   "source": [
    "# locality sensitive hashing\n",
    "\n",
    "def side_of_plane(vector_plane, vector):\n",
    "    vector_plane = np.array(vector_plane)\n",
    "    vector = np.array(vector)\n",
    "    \n",
    "    dot_product = np.dot(vector_plane, vector.T)\n",
    "    sign_of_dot_product = np.sign(dot_product)\n",
    "    return 1 if sign_of_dot_product >= 1 else 0\n",
    "\n",
    "\n",
    "v1 = [1,1]\n",
    "v2 = [2,2]\n",
    "v3 = [-1, -1]\n",
    "\n",
    "P = [1,1]\n",
    "\n",
    "print(side_of_plane(P, v1)) # still '1', because it is ON the plane\n",
    "print(side_of_plane(P, v2))\n",
    "print(side_of_plane(P, v3))\n",
    "\n",
    "# if we have MULTIPLE planes, we simply encode them in a binary vector\n",
    "# e.g. 110, 101, 001"
   ],
   "metadata": {
    "collapsed": false,
    "ExecuteTime": {
     "end_time": "2023-09-25T13:36:46.040238762Z",
     "start_time": "2023-09-25T13:36:45.998665937Z"
    }
   },
   "id": "918c34f4834178f4"
  },
  {
   "cell_type": "code",
   "execution_count": 18,
   "outputs": [
    {
     "name": "stdout",
     "output_type": "stream",
     "text": [
      "[2 1 1]\n"
     ]
    }
   ],
   "source": [
    "# Additivity of embeddings\n",
    "\n",
    "# We can simply add embeddings together, if we see a sentence (NOTE: these are not positionally sensitive)\n",
    "\n",
    "# EXAMPLE:\n",
    "\n",
    "emb1 = [1, 0, 0]\n",
    "emb2 = [0, 1, 0]\n",
    "emb3 = [1, 0, 1]\n",
    "\n",
    "sum_of_embeddigns = np.sum(np.array([emb1, emb2, emb3]), axis=0)\n",
    "print(sum_of_embeddigns)"
   ],
   "metadata": {
    "collapsed": false,
    "ExecuteTime": {
     "end_time": "2023-09-25T13:38:19.012488300Z",
     "start_time": "2023-09-25T13:38:18.978417520Z"
    }
   },
   "id": "7e9a07aaf84b6ddb"
  }
 ],
 "metadata": {
  "kernelspec": {
   "display_name": "Python 3",
   "language": "python",
   "name": "python3"
  },
  "language_info": {
   "codemirror_mode": {
    "name": "ipython",
    "version": 2
   },
   "file_extension": ".py",
   "mimetype": "text/x-python",
   "name": "python",
   "nbconvert_exporter": "python",
   "pygments_lexer": "ipython2",
   "version": "2.7.6"
  }
 },
 "nbformat": 4,
 "nbformat_minor": 5
}
