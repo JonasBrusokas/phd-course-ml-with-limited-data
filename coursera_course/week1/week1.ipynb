{
 "cells": [
  {
   "cell_type": "markdown",
   "source": [
    "# Vocabulary and Feature extraction"
   ],
   "metadata": {
    "collapsed": false
   },
   "id": "1beb5fe3a25b938"
  },
  {
   "cell_type": "code",
   "execution_count": 1,
   "outputs": [],
   "source": [
    "# Sparse representation\n",
    "\n",
    "# Have a vocabulary and then do a vector with 1|0 if the word is in it\n",
    "# not very scalable"
   ],
   "metadata": {
    "collapsed": false,
    "ExecuteTime": {
     "end_time": "2023-09-24T20:42:01.253341619Z",
     "start_time": "2023-09-24T20:42:01.247151763Z"
    }
   },
   "id": "1b78d168b93a9c8d"
  },
  {
   "cell_type": "code",
   "execution_count": 2,
   "outputs": [
    {
     "data": {
      "text/plain": "5"
     },
     "execution_count": 2,
     "metadata": {},
     "output_type": "execute_result"
    }
   ],
   "source": [
    " # Frequency dictionary for Sentiment analysis\n",
    "\n",
    "# count how many times the word repeated for postiive or negative\n"
   ],
   "metadata": {
    "collapsed": false,
    "ExecuteTime": {
     "end_time": "2023-09-24T20:42:09.251113363Z",
     "start_time": "2023-09-24T20:42:09.240753861Z"
    }
   },
   "id": "ae2b3a51b6660f3a"
  },
  {
   "cell_type": "code",
   "execution_count": null,
   "outputs": [],
   "source": [
    "# Stemming and stop words for feature extraction\n",
    "\n",
    "# Stop words are not useful words (e.g. and, is, are, at, has, for, a)\n",
    "# also punctuation marks\n",
    "\n",
    "# Stemming - transform into base \"stem\"\n",
    "# tuning -> tun, \n",
    "\n",
    "# lowercase all words\n",
    "\n"
   ],
   "metadata": {
    "collapsed": false
   },
   "id": "b58cc12d47a1ef68"
  }
 ],
 "metadata": {
  "kernelspec": {
   "display_name": "Python 3",
   "language": "python",
   "name": "python3"
  },
  "language_info": {
   "codemirror_mode": {
    "name": "ipython",
    "version": 2
   },
   "file_extension": ".py",
   "mimetype": "text/x-python",
   "name": "python",
   "nbconvert_exporter": "python",
   "pygments_lexer": "ipython2",
   "version": "2.7.6"
  }
 },
 "nbformat": 4,
 "nbformat_minor": 5
}
