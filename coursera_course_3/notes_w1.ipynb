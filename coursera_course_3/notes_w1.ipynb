{
 "cells": [
  {
   "cell_type": "code",
   "execution_count": null,
   "outputs": [],
   "source": [
    "# Bi-directional RNN\n",
    "\n",
    "# Both directions INDEPENDENT"
   ],
   "metadata": {
    "collapsed": false
   },
   "id": "9e9ad0f05d410a56"
  },
  {
   "cell_type": "code",
   "execution_count": null,
   "outputs": [],
   "source": [
    "# Named entity recognition\n",
    "\n",
    "# NER\n",
    "# Types: geographical, organizations, geopolitical, time, artifacts, persons\n",
    "\n",
    "# Optimize search efficiency\n",
    "# Recommendation engines\n",
    "# Labelling / tagging (topics)\n",
    "\n"
   ],
   "metadata": {
    "collapsed": false
   },
   "id": "a7dd521d0557bca6"
  }
 ],
 "metadata": {
  "kernelspec": {
   "display_name": "Python 3",
   "language": "python",
   "name": "python3"
  },
  "language_info": {
   "codemirror_mode": {
    "name": "ipython",
    "version": 2
   },
   "file_extension": ".py",
   "mimetype": "text/x-python",
   "name": "python",
   "nbconvert_exporter": "python",
   "pygments_lexer": "ipython2",
   "version": "2.7.6"
  }
 },
 "nbformat": 4,
 "nbformat_minor": 5
}
